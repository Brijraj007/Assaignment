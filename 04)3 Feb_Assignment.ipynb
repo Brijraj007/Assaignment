{
 "cells": [
  {
   "cell_type": "markdown",
   "id": "6394dd1d",
   "metadata": {},
   "source": [
    "##### Q1. Which keyword is used to create a function? Create a function to return a list of odd numbers in the range of 1 to 25."
   ]
  },
  {
   "cell_type": "code",
   "execution_count": 1,
   "id": "e5c7147d",
   "metadata": {},
   "outputs": [],
   "source": [
    "#'def' keyword is used to create a function\n",
    "def odd_nums():\n",
    "    list=[]\n",
    "    for num in range(1,26):\n",
    "        if num%2==0:\n",
    "            list.append(num)\n",
    "    return(list)"
   ]
  },
  {
   "cell_type": "code",
   "execution_count": 2,
   "id": "55ffea4f",
   "metadata": {},
   "outputs": [
    {
     "name": "stdout",
     "output_type": "stream",
     "text": [
      "[2, 4, 6, 8, 10, 12, 14, 16, 18, 20, 22, 24]\n"
     ]
    }
   ],
   "source": [
    "print(odd_nums())"
   ]
  },
  {
   "cell_type": "raw",
   "id": "95caee05",
   "metadata": {},
   "source": [
    "Q2. Why *args and **kwargs is used in some functions? Create a function each for *args and **kwargs to demonstrate their use."
   ]
  },
  {
   "cell_type": "code",
   "execution_count": 3,
   "id": "a57b3029",
   "metadata": {},
   "outputs": [
    {
     "name": "stdout",
     "output_type": "stream",
     "text": [
      "a\n",
      "b\n",
      "c\n"
     ]
    }
   ],
   "source": [
    "#1)*args and **kwargs are special syntax in Python that allows functions to accept an arbitrary number of arguments.\n",
    "#2)The *args syntax is used to pass a variable number of non-keyword arguments to a function. It collects these arguments into a tuple within the function. \n",
    "#Here's an example:\n",
    "def argfunc(*args):\n",
    "    for argument in args:\n",
    "        print(argument)\n",
    "     \n",
    "#call the function\n",
    "argfunc('a','b','c')"
   ]
  },
  {
   "cell_type": "code",
   "execution_count": 4,
   "id": "3428ae5b",
   "metadata": {},
   "outputs": [
    {
     "name": "stdout",
     "output_type": "stream",
     "text": [
      "one 1\n",
      "two two\n",
      "three 3.0\n",
      "four (4+1j)\n"
     ]
    }
   ],
   "source": [
    "#The **kwargs syntax is used to pass a variable number of keyword arguments to a function. It collects these arguments into a dictionary within the function. \n",
    "#Here's an example:\n",
    "def dicfunc(**kwargs):\n",
    "    for keys,values in kwargs.items():\n",
    "        print(keys,values)\n",
    "        \n",
    "# call the function\n",
    "dicfunc(one=1, two='two', three=3.0, four=4+1j)"
   ]
  },
  {
   "cell_type": "markdown",
   "id": "5541f086",
   "metadata": {},
   "source": [
    "##### Q3. What is an iterator in python? Name the method used to initialise the iterator object and the method used for iteration. Use these methods to print the first five elements of the given list [2, 4, 6, 8, 10, 12, 14, 16, 18, 20]."
   ]
  },
  {
   "cell_type": "code",
   "execution_count": 5,
   "id": "1fc48a4d",
   "metadata": {},
   "outputs": [
    {
     "name": "stdout",
     "output_type": "stream",
     "text": [
      "2\n",
      "4\n",
      "6\n",
      "8\n",
      "10\n"
     ]
    }
   ],
   "source": [
    "#1)In Python, an iterator is an object that allows you to traverse through a collection of elements, such as a list or tuple, one at a time. The iterator returns the next element in the collection each time the next() method is called on it until there are no more elements to return.\n",
    "#2)\"iter\" method is used to initialise the iterator object.\n",
    "#3)\"next()\" method is used for iteration\n",
    "#4)following are the code to print the first five elements of the given list [2, 4, 6, 8, 10, 12, 14, 16, 18, 20],\n",
    "list=[2, 4, 6, 8, 10, 12, 14, 16, 18, 20]\n",
    "iterator=iter(list)\n",
    "for i in range(5):\n",
    "    element=next(iterator)\n",
    "    print(element)"
   ]
  },
  {
   "cell_type": "markdown",
   "id": "06814d6d",
   "metadata": {},
   "source": [
    "##### Q4. What is a generator function in python? Why yield keyword is used? Give an example of a generator function."
   ]
  },
  {
   "cell_type": "raw",
   "id": "92543a65",
   "metadata": {},
   "source": [
    "In Python, a generator function is a special type of function that allows you to generate a sequence of values on-the-fly. Instead of returning a single value, a generator function yields a series of values, one at a time, using the yield keyword. Each time the generator function is called, it resumes from where it left off, keeping track of its internal state."
   ]
  },
  {
   "cell_type": "raw",
   "id": "32fe8afb",
   "metadata": {},
   "source": [
    "The yield keyword is used in a generator function to produce a value and pause the function's execution, allowing the calling code to consume the value. When the generator function is called again, it resumes execution from where it left off, picking up where it previously yielded, and continuing to generate values until there are no more values to produce."
   ]
  },
  {
   "cell_type": "code",
   "execution_count": 6,
   "id": "e97af3fa",
   "metadata": {},
   "outputs": [
    {
     "name": "stdout",
     "output_type": "stream",
     "text": [
      "0\n",
      "1\n",
      "1\n",
      "2\n",
      "3\n"
     ]
    }
   ],
   "source": [
    "#example of a generator function.\n",
    "def test_fib(n): \n",
    "    a,b=0,1\n",
    "    for i in range(n):\n",
    "        yield a\n",
    "        a,b=b,a+b\n",
    "    \n",
    "for i in test_fib(5):\n",
    "    print(i)"
   ]
  },
  {
   "cell_type": "markdown",
   "id": "d8a4ba38",
   "metadata": {},
   "source": [
    "##### Q.5 Create a generator function for prime numbers less than 1000. Use the next() method to print the first 20 prime numbers."
   ]
  },
  {
   "cell_type": "code",
   "execution_count": 7,
   "id": "8b0a1902",
   "metadata": {},
   "outputs": [],
   "source": [
    "def generate_primes():\n",
    "    primes = [2]\n",
    "    num = 3\n",
    "    while num<1000:\n",
    "        is_prime = True\n",
    "        for prime in primes:\n",
    "            if num % prime == 0:\n",
    "                is_prime = False\n",
    "                break\n",
    "        if is_prime:\n",
    "            primes.append(num)\n",
    "            yield num\n",
    "        num += 2"
   ]
  },
  {
   "cell_type": "code",
   "execution_count": 8,
   "id": "5f632759",
   "metadata": {},
   "outputs": [
    {
     "name": "stdout",
     "output_type": "stream",
     "text": [
      "3\n",
      "5\n",
      "7\n",
      "11\n",
      "13\n",
      "17\n",
      "19\n",
      "23\n",
      "29\n",
      "31\n",
      "37\n",
      "41\n",
      "43\n",
      "47\n",
      "53\n",
      "59\n",
      "61\n",
      "67\n",
      "71\n",
      "73\n"
     ]
    }
   ],
   "source": [
    "primes_generator = generate_primes()\n",
    "for i in range(20):\n",
    "    print(next(primes_generator))"
   ]
  },
  {
   "cell_type": "markdown",
   "id": "7df07ba3",
   "metadata": {},
   "source": [
    "#### Q6. Write a python program to print the first 10 Fibonacci numbers using a while loop."
   ]
  },
  {
   "cell_type": "code",
   "execution_count": 9,
   "id": "13b0e142",
   "metadata": {},
   "outputs": [
    {
     "name": "stdout",
     "output_type": "stream",
     "text": [
      "0\n",
      "1\n",
      "1\n",
      "2\n",
      "3\n",
      "5\n",
      "8\n",
      "13\n",
      "21\n",
      "34\n"
     ]
    }
   ],
   "source": [
    "num=10\n",
    "a,b=0,1\n",
    "while num>0:\n",
    "    c=a+b\n",
    "    print(a)\n",
    "    a=b\n",
    "    b=c\n",
    "    num-=1"
   ]
  },
  {
   "cell_type": "markdown",
   "id": "571daa3a",
   "metadata": {},
   "source": [
    "#### Q7. Write a List Comprehension to iterate through the given string: ‘pwskills’.\n",
    "\n",
    "Expected output: ['p', 'w', 's', 'k', 'i', 'l', 'l', 's']"
   ]
  },
  {
   "cell_type": "code",
   "execution_count": 10,
   "id": "934e971a",
   "metadata": {},
   "outputs": [
    {
     "data": {
      "text/plain": [
       "['p', 'w', 's', 'k', 'i', 'l', 'l', 's']"
      ]
     },
     "execution_count": 10,
     "metadata": {},
     "output_type": "execute_result"
    }
   ],
   "source": [
    "str = 'pwskills'\n",
    "[char for char in str]"
   ]
  },
  {
   "cell_type": "markdown",
   "id": "da14026b",
   "metadata": {},
   "source": [
    "#### Q8. Write a python program to check whether a given number is Palindrome or not using a while loop."
   ]
  },
  {
   "cell_type": "code",
   "execution_count": 11,
   "id": "384b4576",
   "metadata": {},
   "outputs": [
    {
     "name": "stdout",
     "output_type": "stream",
     "text": [
      "Enter a number: 12321\n",
      "12321 is a palindrome number\n"
     ]
    }
   ],
   "source": [
    "num = int(input(\"Enter a number: \"))\n",
    "temp = num\n",
    "reverse = 0\n",
    "\n",
    "while temp > 0:\n",
    "    digit = temp % 10\n",
    "    reverse = reverse * 10 + digit\n",
    "    temp //= 10\n",
    "\n",
    "if num == reverse:\n",
    "    print(num, \"is a palindrome number\")\n",
    "else:\n",
    "    print(num, \"is not a palindrome number\")"
   ]
  },
  {
   "cell_type": "markdown",
   "id": "9a4badf9",
   "metadata": {},
   "source": [
    "##### Q.9 Write a code to print odd numbers from 1 to 100 using list comprehension.\n",
    "\n",
    "Note: Use a list comprehension to create a list from 1 to 100 and use another List comprehension to filter\n",
    "out odd numbers."
   ]
  },
  {
   "cell_type": "code",
   "execution_count": 12,
   "id": "0fb27200",
   "metadata": {},
   "outputs": [
    {
     "name": "stdout",
     "output_type": "stream",
     "text": [
      "[1, 3, 5, 7, 9, 11, 13, 15, 17, 19, 21, 23, 25, 27, 29, 31, 33, 35, 37, 39, 41, 43, 45, 47, 49, 51, 53, 55, 57, 59, 61, 63, 65, 67, 69, 71, 73, 75, 77, 79, 81, 83, 85, 87, 89, 91, 93, 95, 97, 99]\n"
     ]
    }
   ],
   "source": [
    "numbers = [num for num in range(1, 101)]\n",
    "odd_numbers = [num for num in numbers if num%2 != 0]\n",
    "print(odd_numbers)"
   ]
  }
 ],
 "metadata": {
  "kernelspec": {
   "display_name": "Python 3 (ipykernel)",
   "language": "python",
   "name": "python3"
  },
  "language_info": {
   "codemirror_mode": {
    "name": "ipython",
    "version": 3
   },
   "file_extension": ".py",
   "mimetype": "text/x-python",
   "name": "python",
   "nbconvert_exporter": "python",
   "pygments_lexer": "ipython3",
   "version": "3.10.9"
  }
 },
 "nbformat": 4,
 "nbformat_minor": 5
}
