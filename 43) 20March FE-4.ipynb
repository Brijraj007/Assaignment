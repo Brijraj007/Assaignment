{
 "cells": [
  {
   "cell_type": "markdown",
   "id": "5d15158b",
   "metadata": {},
   "source": [
    "##### Q1. What is data encoding? How is it useful in data science?"
   ]
  },
  {
   "cell_type": "markdown",
   "id": "66f7fccb",
   "metadata": {},
   "source": [
    "Data encoding is the process of converting data from one form to another, usually for the purpose of transmission, storage, or analysis. Data decoding is the reverse process of converting data back to its original form, usually for the purpose of interpretation or use.\n",
    "\n",
    "In data science, data encoding and decoding play a crucial role as they act as a bridge between raw data and actionable insights. They enable us to:\n",
    "\n",
    "- Prepare data for analysis by transforming it into a suitable format that can be processed by algorithms or models.\n",
    "- Engineer features by extracting relevant information from data and creating new variables that can improve the performance or accuracy of analysis.\n",
    "- Compress data by reducing its size or complexity without losing its essential information or quality.\n",
    "- Protect data by encrypting it or masking it to prevent unauthorized access or disclosure."
   ]
  },
  {
   "cell_type": "code",
   "execution_count": null,
   "id": "bfe93187",
   "metadata": {},
   "outputs": [],
   "source": []
  },
  {
   "cell_type": "markdown",
   "id": "479dc0bd",
   "metadata": {},
   "source": [
    "##### Q2. What is nominal encoding? Provide an example of how you would use it in a real-world scenario."
   ]
  },
  {
   "cell_type": "markdown",
   "id": "fd2c90e1",
   "metadata": {},
   "source": [
    "Nominal encoding is a technique used in data science to convert categorical data into numerical data. It is used when the categorical data has no order or rank to it.\n",
    "For example, if we have a feature where variables are just names and there is no order or rank to this variable’s feature, such as city of person lives in, gender of person, marital status, etc., we use nominal encoding.\n",
    "real-world scenario: Suppose we have a dataset containing customer feedback on a product. One of the features in the dataset is “Sentiment”, which contains three categories: Positive, Negative, and Neutral. We can use LabelEncoder to convert these categories into numerical values so that the machine can learn from them and predict the sentiment of future customer feedback."
   ]
  },
  {
   "cell_type": "code",
   "execution_count": 1,
   "id": "0b369b4f",
   "metadata": {},
   "outputs": [
    {
     "name": "stdout",
     "output_type": "stream",
     "text": [
      "[2 0 1 2 1]\n"
     ]
    }
   ],
   "source": [
    "from sklearn.preprocessing import LabelEncoder\n",
    "\n",
    "# Create a sample dataset\n",
    "sentiments = ['Positive', 'Negative', 'Neutral', 'Positive', 'Neutral']\n",
    "\n",
    "# Initialize LabelEncoder\n",
    "le = LabelEncoder()\n",
    "\n",
    "# Fit and transform the data\n",
    "encoded_sentiments = le.fit_transform(sentiments)\n",
    "\n",
    "# Print the encoded data\n",
    "print(encoded_sentiments)\n"
   ]
  },
  {
   "cell_type": "code",
   "execution_count": null,
   "id": "3dd23549",
   "metadata": {},
   "outputs": [],
   "source": []
  },
  {
   "cell_type": "markdown",
   "id": "4c87a71f",
   "metadata": {},
   "source": [
    "##### Q3. In what situations is nominal encoding preferred over one-hot encoding? Provide a practical example."
   ]
  },
  {
   "cell_type": "markdown",
   "id": "53beb824",
   "metadata": {},
   "source": [
    "Nominal encoding may be preferred over one-hot encoding in situations where the categorical variable has a large number of unique categories, and we want to reduce dimensionality. \n",
    "Nominal encoding results in a single column of integers, making it more compact than one-hot encoding. "
   ]
  },
  {
   "cell_type": "code",
   "execution_count": 2,
   "id": "2f8598e2",
   "metadata": {},
   "outputs": [
    {
     "name": "stdout",
     "output_type": "stream",
     "text": [
      "    Color  Color_ncoded\n",
      "0     Red             2\n",
      "1    Blue             0\n",
      "2   Green             1\n",
      "3     Red             2\n",
      "4  Yellow             3\n",
      "5   Green             1\n"
     ]
    }
   ],
   "source": [
    "#Here's a practical example\n",
    "import pandas as pd\n",
    "from sklearn.preprocessing import LabelEncoder\n",
    "\n",
    "data = {'Color': ['Red', 'Blue', 'Green', 'Red', 'Yellow', 'Green']}\n",
    "df = pd.DataFrame(data)\n",
    "\n",
    "label_encoder = LabelEncoder()\n",
    "df['Color_ncoded'] = label_encoder.fit_transform(df['Color'])\n",
    "\n",
    "print(df)"
   ]
  },
  {
   "cell_type": "code",
   "execution_count": null,
   "id": "e749f05d",
   "metadata": {},
   "outputs": [],
   "source": []
  },
  {
   "cell_type": "markdown",
   "id": "5e8fcdec",
   "metadata": {},
   "source": [
    "##### Q4. Suppose you have a dataset containing categorical data with 5 unique values. Which encoding technique would you use to transform this data into a format suitable for machine learning algorithms? Explain why you made this choice."
   ]
  },
  {
   "cell_type": "markdown",
   "id": "8b0aefd7",
   "metadata": {},
   "source": [
    "**Answer:**\n",
    "The choice of encoding technique for transforming categorical data with 5 unique values depends on the nature of the data and the requirements of the machine learning algorithm. Here are two common encoding techniques and considerations for each:\n",
    "\n",
    "**Nominal Encoding (Label Encoding):**  \n",
    "_Description_: Nominal encoding assigns a unique integer to each category. This is suitable when there is no inherent order or ranking among the categories.  \n",
    "_Example_: Using Label Encoding to map the 5 unique values to integers 0 through 4.\n",
    "\n",
    "**One-Hot Encoding:**  \n",
    "_Description_: One-hot encoding creates binary columns for each category, where each column indicates the presence or absence of a particular category. This is suitable when there is no ordinal relationship among the categories, and we want to prevent the model from assuming any ordinality.  \n",
    "_Example_: Using One-Hot Encoding to represent the 5 unique values with binary columns.\n",
    "\n",
    "**Choice and Considerations:**  \n",
    "If the categorical values represent distinct and unordered categories (e.g., colors, types, labels), and there is no inherent order or ranking, we might choose **Nominal Encoding (Label Encoding)**. This approach is simpler and results in a single column of integers.\n",
    "\n",
    "If there is no ordinal relationship among the 5 unique values, and we want to maintain independence among the categories, we might choose **One-Hot Encoding**. This approach ensures that the model doesn't interpret any ordinal relationship between the categories"
   ]
  },
  {
   "cell_type": "code",
   "execution_count": null,
   "id": "34718298",
   "metadata": {},
   "outputs": [],
   "source": []
  },
  {
   "cell_type": "markdown",
   "id": "140672df",
   "metadata": {},
   "source": [
    "##### Q5. In a machine learning project, you have a dataset with 1000 rows and 5 columns. Two of the columns are categorical, and the remaining three columns are numerical. If you were to use nominal encoding to transform the categorical data, how many new columns would be created? Show your calculations."
   ]
  },
  {
   "cell_type": "markdown",
   "id": "1e83bb5a",
   "metadata": {},
   "source": [
    "**Answer**  \n",
    "If we have to use nominal encoding (label encoding) to transform the categorical data in two columns, we would create a single new column for each categorical column. Each new column would contain integer-encoded values corresponding to the unique categories in the original columns.\n",
    "\n",
    "Therefore, the number of new columns created would be equal to the number of categorical columns we are encoding.\n",
    "\n",
    "In this case, we have 2 categorical columns, so we would create 2 new columns.\n",
    "\n",
    "So, the answer is **2 new columns**."
   ]
  },
  {
   "cell_type": "code",
   "execution_count": null,
   "id": "5340add5",
   "metadata": {},
   "outputs": [],
   "source": []
  },
  {
   "cell_type": "markdown",
   "id": "2d4a4cce",
   "metadata": {},
   "source": [
    "##### Q6. You are working with a dataset containing information about different types of animals, including their species, habitat, and diet. Which encoding technique would you use to transform the categorical data into a format suitable for machine learning algorithms? Justify your answer.\n"
   ]
  },
  {
   "cell_type": "markdown",
   "id": "7b86dfbf",
   "metadata": {},
   "source": [
    "**Answer**:\n",
    "In the context of a dataset containing information about different types of animals with categorical attributes such as species, habitat, and diet, the choice of encoding technique depends on the nature of the categorical variables and the requirements of the machine learning algorithm. Here are two common encoding techniques and considerations for each:\n",
    "\n",
    "- If the categorical variables represent distinct and unordered categories (e.g., species, habitat, and diet), and there is no inherent order or ranking, we might choose **Nominal Encoding (Label Encoding)** for simplicity and compact representation.\n",
    "- If there is no ordinal relationship among the categories, and we want to maintain independence among the categories, we might choose One-Hot Encoding to provide an explicit representation."
   ]
  },
  {
   "cell_type": "code",
   "execution_count": 3,
   "id": "8d6c1731",
   "metadata": {},
   "outputs": [
    {
     "data": {
      "text/html": [
       "<div>\n",
       "<style scoped>\n",
       "    .dataframe tbody tr th:only-of-type {\n",
       "        vertical-align: middle;\n",
       "    }\n",
       "\n",
       "    .dataframe tbody tr th {\n",
       "        vertical-align: top;\n",
       "    }\n",
       "\n",
       "    .dataframe thead th {\n",
       "        text-align: right;\n",
       "    }\n",
       "</style>\n",
       "<table border=\"1\" class=\"dataframe\">\n",
       "  <thead>\n",
       "    <tr style=\"text-align: right;\">\n",
       "      <th></th>\n",
       "      <th>Species</th>\n",
       "      <th>Habitat</th>\n",
       "      <th>Diet</th>\n",
       "      <th>Species_Encoded</th>\n",
       "      <th>Habitat_Encoded</th>\n",
       "      <th>Diet_Encoded</th>\n",
       "    </tr>\n",
       "  </thead>\n",
       "  <tbody>\n",
       "    <tr>\n",
       "      <th>0</th>\n",
       "      <td>Lion</td>\n",
       "      <td>Jungle</td>\n",
       "      <td>Carnivore</td>\n",
       "      <td>2</td>\n",
       "      <td>1</td>\n",
       "      <td>0</td>\n",
       "    </tr>\n",
       "    <tr>\n",
       "      <th>1</th>\n",
       "      <td>Tiger</td>\n",
       "      <td>Savannah</td>\n",
       "      <td>Carnivore</td>\n",
       "      <td>3</td>\n",
       "      <td>2</td>\n",
       "      <td>0</td>\n",
       "    </tr>\n",
       "    <tr>\n",
       "      <th>2</th>\n",
       "      <td>Giraffe</td>\n",
       "      <td>Zoo</td>\n",
       "      <td>Herbivore</td>\n",
       "      <td>1</td>\n",
       "      <td>3</td>\n",
       "      <td>1</td>\n",
       "    </tr>\n",
       "    <tr>\n",
       "      <th>3</th>\n",
       "      <td>Elephant</td>\n",
       "      <td>Forest</td>\n",
       "      <td>Herbivore</td>\n",
       "      <td>0</td>\n",
       "      <td>0</td>\n",
       "      <td>1</td>\n",
       "    </tr>\n",
       "  </tbody>\n",
       "</table>\n",
       "</div>"
      ],
      "text/plain": [
       "    Species   Habitat       Diet  Species_Encoded  Habitat_Encoded  \\\n",
       "0      Lion    Jungle  Carnivore                2                1   \n",
       "1     Tiger  Savannah  Carnivore                3                2   \n",
       "2   Giraffe       Zoo  Herbivore                1                3   \n",
       "3  Elephant    Forest  Herbivore                0                0   \n",
       "\n",
       "   Diet_Encoded  \n",
       "0             0  \n",
       "1             0  \n",
       "2             1  \n",
       "3             1  "
      ]
     },
     "execution_count": 3,
     "metadata": {},
     "output_type": "execute_result"
    }
   ],
   "source": [
    "import pandas as pd\n",
    "from sklearn.preprocessing import LabelEncoder\n",
    "\n",
    "data = {'Species': ['Lion', 'Tiger', 'Giraffe', 'Elephant'],\n",
    "        'Habitat': ['Jungle', 'Savannah', 'Zoo', 'Forest'],\n",
    "        'Diet': ['Carnivore', 'Carnivore', 'Herbivore', 'Herbivore']}\n",
    "\n",
    "df = pd.DataFrame(data)\n",
    "\n",
    "# Nominal Encoding for each column\n",
    "label_encoder = LabelEncoder()\n",
    "df['Species_Encoded'] = label_encoder.fit_transform(df['Species'])\n",
    "df['Habitat_Encoded'] = label_encoder.fit_transform(df['Habitat'])\n",
    "df['Diet_Encoded'] = label_encoder.fit_transform(df['Diet'])\n",
    "\n",
    "df"
   ]
  },
  {
   "cell_type": "code",
   "execution_count": null,
   "id": "865b8fa9",
   "metadata": {},
   "outputs": [],
   "source": []
  },
  {
   "cell_type": "markdown",
   "id": "d45443ed",
   "metadata": {},
   "source": [
    "##### Q7.You are working on a project that involves predicting customer churn for a telecommunications company. You have a dataset with 5 features, including the customer's gender, age, contract type, monthly charges, and tenure. Which encoding technique(s) would you use to transform the categorical data into numerical data? Provide a step-by-step explanation of how you would implement the encoding."
   ]
  },
  {
   "cell_type": "markdown",
   "id": "cbf4bb14",
   "metadata": {},
   "source": [
    "**Answer**  \n",
    "In the context of predicting customer churn for a telecommunications company with a dataset containing categorical features such as gender and contract type, we would typically use encoding techniques to convert these categorical features into numerical format. Here's a step-by-step explanation of how we might implement the encoding:\n",
    "\n",
    "**Features:**\n",
    "1. Gender\n",
    "2. Contract type\n",
    "\n",
    "**Encoding Techniques:**\n",
    "1. **Nominal Encoding (Label Encoding) for Binary Categorical Features:**\n",
    "- For the \"gender\" feature (assuming it has two categories, e.g., 'Male' and 'Female'), we can use nominal encoding (label encoding) since it's a binary categorical feature.\n",
    "- Step-by-Step Implementation:"
   ]
  },
  {
   "cell_type": "code",
   "execution_count": 4,
   "id": "3f21d601",
   "metadata": {},
   "outputs": [
    {
     "data": {
      "text/html": [
       "<div>\n",
       "<style scoped>\n",
       "    .dataframe tbody tr th:only-of-type {\n",
       "        vertical-align: middle;\n",
       "    }\n",
       "\n",
       "    .dataframe tbody tr th {\n",
       "        vertical-align: top;\n",
       "    }\n",
       "\n",
       "    .dataframe thead th {\n",
       "        text-align: right;\n",
       "    }\n",
       "</style>\n",
       "<table border=\"1\" class=\"dataframe\">\n",
       "  <thead>\n",
       "    <tr style=\"text-align: right;\">\n",
       "      <th></th>\n",
       "      <th>gender</th>\n",
       "      <th>ContractType</th>\n",
       "      <th>Gender_Encoded</th>\n",
       "    </tr>\n",
       "  </thead>\n",
       "  <tbody>\n",
       "    <tr>\n",
       "      <th>0</th>\n",
       "      <td>Male</td>\n",
       "      <td>Month-to-Month</td>\n",
       "      <td>1</td>\n",
       "    </tr>\n",
       "    <tr>\n",
       "      <th>1</th>\n",
       "      <td>Female</td>\n",
       "      <td>One_Year</td>\n",
       "      <td>0</td>\n",
       "    </tr>\n",
       "    <tr>\n",
       "      <th>2</th>\n",
       "      <td>Male</td>\n",
       "      <td>Two_Year</td>\n",
       "      <td>1</td>\n",
       "    </tr>\n",
       "  </tbody>\n",
       "</table>\n",
       "</div>"
      ],
      "text/plain": [
       "   gender    ContractType  Gender_Encoded\n",
       "0    Male  Month-to-Month               1\n",
       "1  Female        One_Year               0\n",
       "2    Male        Two_Year               1"
      ]
     },
     "execution_count": 4,
     "metadata": {},
     "output_type": "execute_result"
    }
   ],
   "source": [
    "from sklearn.preprocessing import LabelEncoder\n",
    "import pandas as pd\n",
    "\n",
    "df = {\n",
    "    'gender' : ['Male','Female','Male'],\n",
    "    'ContractType' : ['Month-to-Month', 'One_Year', 'Two_Year']\n",
    "}\n",
    "# Assuming 'gender' is a binary categorical column in our DataFrame\n",
    "label_encoder = LabelEncoder()\n",
    "df['Gender_Encoded'] = label_encoder.fit_transform(df['gender'])\n",
    "\n",
    "df1 = pd.DataFrame(df)\n",
    "df1\n"
   ]
  },
  {
   "cell_type": "markdown",
   "id": "b4f6db2f",
   "metadata": {},
   "source": [
    "2.  **One-Hot Encoding for Non-Binary Categorical Features:**\n",
    "- For the \"contract type\" feature (assuming it has more than two categories, e.g., 'Month-to-month', 'One year', 'Two years'), we should use one-hot encoding since it's a non-binary categorical feature.\n",
    "- Step-by-Step Implementation:"
   ]
  },
  {
   "cell_type": "code",
   "execution_count": 5,
   "id": "55f0c1bd",
   "metadata": {},
   "outputs": [
    {
     "data": {
      "text/html": [
       "<div>\n",
       "<style scoped>\n",
       "    .dataframe tbody tr th:only-of-type {\n",
       "        vertical-align: middle;\n",
       "    }\n",
       "\n",
       "    .dataframe tbody tr th {\n",
       "        vertical-align: top;\n",
       "    }\n",
       "\n",
       "    .dataframe thead th {\n",
       "        text-align: right;\n",
       "    }\n",
       "</style>\n",
       "<table border=\"1\" class=\"dataframe\">\n",
       "  <thead>\n",
       "    <tr style=\"text-align: right;\">\n",
       "      <th></th>\n",
       "      <th>gender</th>\n",
       "      <th>ContractType</th>\n",
       "      <th>Gender_Encoded</th>\n",
       "      <th>ContractType_Month-to-Month</th>\n",
       "      <th>ContractType_One_Year</th>\n",
       "      <th>ContractType_Two_Year</th>\n",
       "    </tr>\n",
       "  </thead>\n",
       "  <tbody>\n",
       "    <tr>\n",
       "      <th>0</th>\n",
       "      <td>Male</td>\n",
       "      <td>Month-to-Month</td>\n",
       "      <td>1</td>\n",
       "      <td>1.0</td>\n",
       "      <td>0.0</td>\n",
       "      <td>0.0</td>\n",
       "    </tr>\n",
       "    <tr>\n",
       "      <th>1</th>\n",
       "      <td>Female</td>\n",
       "      <td>One_Year</td>\n",
       "      <td>0</td>\n",
       "      <td>0.0</td>\n",
       "      <td>1.0</td>\n",
       "      <td>0.0</td>\n",
       "    </tr>\n",
       "    <tr>\n",
       "      <th>2</th>\n",
       "      <td>Male</td>\n",
       "      <td>Two_Year</td>\n",
       "      <td>1</td>\n",
       "      <td>0.0</td>\n",
       "      <td>0.0</td>\n",
       "      <td>1.0</td>\n",
       "    </tr>\n",
       "  </tbody>\n",
       "</table>\n",
       "</div>"
      ],
      "text/plain": [
       "   gender    ContractType  Gender_Encoded  ContractType_Month-to-Month  \\\n",
       "0    Male  Month-to-Month               1                          1.0   \n",
       "1  Female        One_Year               0                          0.0   \n",
       "2    Male        Two_Year               1                          0.0   \n",
       "\n",
       "   ContractType_One_Year  ContractType_Two_Year  \n",
       "0                    0.0                    0.0  \n",
       "1                    1.0                    0.0  \n",
       "2                    0.0                    1.0  "
      ]
     },
     "execution_count": 5,
     "metadata": {},
     "output_type": "execute_result"
    }
   ],
   "source": [
    "from sklearn.preprocessing import OneHotEncoder\n",
    "onehotencoder_encoder = OneHotEncoder()\n",
    "\n",
    "#Performing OneHotEncoder on 'ContractType'\n",
    "df2 = pd.DataFrame(onehotencoder_encoder.fit_transform(df1[['ContractType']]).toarray(), columns=onehotencoder_encoder.get_feature_names_out())\n",
    "\n",
    "df = pd.concat([df1,df2],axis=1)\n",
    "\n",
    "df"
   ]
  },
  {
   "cell_type": "markdown",
   "id": "3a15f797",
   "metadata": {},
   "source": [
    "In this example, 'Gender_Encoded' represents the encoded values for the 'gender' feature, and one-hot encoding creates separate binary columns for each category in the 'contracType' feature. This numerical representation allows us to use these features in machine learning models for predicting customer churn."
   ]
  },
  {
   "cell_type": "code",
   "execution_count": null,
   "id": "f8110c9c",
   "metadata": {},
   "outputs": [],
   "source": []
  }
 ],
 "metadata": {
  "kernelspec": {
   "display_name": "Python 3 (ipykernel)",
   "language": "python",
   "name": "python3"
  },
  "language_info": {
   "codemirror_mode": {
    "name": "ipython",
    "version": 3
   },
   "file_extension": ".py",
   "mimetype": "text/x-python",
   "name": "python",
   "nbconvert_exporter": "python",
   "pygments_lexer": "ipython3",
   "version": "3.10.9"
  }
 },
 "nbformat": 4,
 "nbformat_minor": 5
}
