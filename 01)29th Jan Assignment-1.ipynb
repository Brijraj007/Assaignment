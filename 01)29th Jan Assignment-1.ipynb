{
 "cells": [
  {
   "cell_type": "raw",
   "id": "49ce7a44",
   "metadata": {},
   "source": [
    "Q.1) Who developed Python Programming Language?\n",
    "Ans. Guido van Rossum-develop Python Programming Language."
   ]
  },
  {
   "cell_type": "raw",
   "id": "73e9d553",
   "metadata": {},
   "source": [
    "Q.2) Which type of Programming does Python support?\n",
    "Ans. Python is a high-level, interpreted programming language.\n",
    "That supports multiple programming paradigms, including procedural, object-oriented and functional programming.\n",
    "It also has extensive support for third-party libraries and modules, making it a versatile language for various applications"
   ]
  },
  {
   "cell_type": "raw",
   "id": "0ac85229",
   "metadata": {},
   "source": [
    "Q.3) Is Python case sensitive when dealing with identifiers?\n",
    "Ans. Yes"
   ]
  },
  {
   "cell_type": "raw",
   "id": "7dea921e",
   "metadata": {},
   "source": [
    "Q.4) What is the correct extension of the Python file?\n",
    "Ans. The correct extension of a Python file is \".py\"."
   ]
  },
  {
   "cell_type": "raw",
   "id": "c64305b5",
   "metadata": {},
   "source": [
    "Q.5) Is Python code compiled or interpreted?\n",
    "Ans. Python is an interpreted language."
   ]
  },
  {
   "cell_type": "raw",
   "id": "7361312c",
   "metadata": {},
   "source": [
    "Q.6) Name a few blocks of code used to define in Python language?\n",
    "Ans. Block of code used to define in Python language are Loops, Conditional Statements, Functions, Classes, Modules, Exception handling."
   ]
  },
  {
   "cell_type": "raw",
   "id": "736b87ca",
   "metadata": {},
   "source": [
    "Q.7) state a character used to give single-line comments in Python?\n",
    "Ans. hash symbol-'#'"
   ]
  },
  {
   "cell_type": "raw",
   "id": "8f839052",
   "metadata": {},
   "source": [
    "Q.8) Mention functions which can help us to find the version of Python that we are currently working on?\n",
    "Ans. Using sys. version method.\n",
    "     Using python_version() function.\n",
    "     Using Python -V command."
   ]
  },
  {
   "cell_type": "raw",
   "id": "66b32847",
   "metadata": {},
   "source": [
    "Q.9)Python supports the creation of anonymous functions at runtime, using a construct called\n",
    "Ans. \"lambda functions\" or \"lambda expressions\"."
   ]
  },
  {
   "cell_type": "raw",
   "id": "d6a381f5",
   "metadata": {},
   "source": [
    "Q.10)What does pip stand for python?\n",
    "Ans.PIP stands for \"Pip Installs Packages\"."
   ]
  },
  {
   "cell_type": "raw",
   "id": "31f970c6",
   "metadata": {},
   "source": [
    "Q.11)Mention a few built-in functions in Python?\n",
    "Ans. print(), len(), input(), range(), type(), sum(), max(), min() this is a few built-in functions in Python"
   ]
  },
  {
   "cell_type": "raw",
   "id": "6f70b6ec",
   "metadata": {},
   "source": [
    "Q.12)What is the maximum possible length of an identifier in Python?\n",
    "Ans.79 is the maximum possible length of an identifier in Python. "
   ]
  },
  {
   "cell_type": "raw",
   "id": "24907d5a",
   "metadata": {},
   "source": [
    "Q.13)What are the benefits of using Python?\n",
    "Ans.Python is a popular programming language with several benefits, including:\n",
    "1.Easy to learn and read: Python has a simple syntax and easy-to-read code, making it easy for beginners to learn.\n",
    "2.Versatile: Python can be used for a wide range of applications, including web development, data analysis, machine learning, scientific computing, and more.\n",
    "3.Large community and ecosystem: Python has a large community of developers and a vast ecosystem of libraries and frameworks, making it easy to find resources and solutions to problems.\n",
    "4.Cross-platform compatibility: Python code can run on multiple platforms and operating systems, including Windows, Mac, and Linux.\n",
    "5.Open-source: Python is open-source, meaning that the source code is freely available, making it easy to contribute to the language and its ecosystem.\n",
    "6.High-level language: Python is a high-level language, meaning that it abstracts away many low-level details, making it easier to write complex programs.\n",
    "7.Rapid development: Python has a shorter development time compared to other languages due to its simplicity and availability of libraries.\n",
    "8.Scalable: Python is designed to handle large-scale projects with ease, making it ideal for building complex systems."
   ]
  },
  {
   "cell_type": "raw",
   "id": "49395204",
   "metadata": {},
   "source": [
    "Q.14)How is memory managed in Python?\n",
    "Ans.1.Memory management in Python is handled automatically by the Python interpreter through a technique called \"garbage collection\".\n",
    "The garbage collector in Python uses a reference counting algorithm, which keeps track of the number of references to an object. When an object's reference count reaches zero, meaning that there are no longer any references to that object, the garbage collector frees up the memory associated with that object."
   ]
  },
  {
   "cell_type": "raw",
   "id": "16ea1d9f",
   "metadata": {},
   "source": [
    "Q.15)How to install Python on Windows and set path variables?\n",
    "Ans.Follow the step to install Python on Windows and set path variables:\n",
    "1.Download the latest version of Python for Windows from the official website at https://www.python.org/downloads/.\n",
    "2.Run the installer and follow the prompts to install Python on your system.\n",
    "3.Once the installation is complete, open the Control Panel and navigate to System and Security > System > Advanced system settings > Environment Variables.\n",
    "4.Under System variables, click on the \"Path\" variable and then click the \"Edit\" button.\n",
    "5.Click the \"New\" button and add the path to the Python executable file. This is typically located in the \"C:\\PythonXX\" directory, where \"XX\" is the version of Python you installed (e.g. \"C:\\Python39\").\n",
    "6.Click \"OK\" to close all the windows and apply the changes.\n",
    "7.Open a command prompt and type \"python\" to verify that Python has been installed and configured correctly. You should see the Python version and command prompt."
   ]
  },
  {
   "cell_type": "raw",
   "id": "38d526ef",
   "metadata": {},
   "source": [
    "Q.16)Is indentation required in Python?\n",
    "Ans.Yes,indentation required in Python.\n",
    "Identation is used to indicate the block structure of the code."
   ]
  }
 ],
 "metadata": {
  "kernelspec": {
   "display_name": "Python 3 (ipykernel)",
   "language": "python",
   "name": "python3"
  },
  "language_info": {
   "codemirror_mode": {
    "name": "ipython",
    "version": 3
   },
   "file_extension": ".py",
   "mimetype": "text/x-python",
   "name": "python",
   "nbconvert_exporter": "python",
   "pygments_lexer": "ipython3",
   "version": "3.9.13"
  }
 },
 "nbformat": 4,
 "nbformat_minor": 5
}
