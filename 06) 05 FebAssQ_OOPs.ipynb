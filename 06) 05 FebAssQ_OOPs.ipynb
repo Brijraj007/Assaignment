{
 "cells": [
  {
   "cell_type": "markdown",
   "id": "eae07a80",
   "metadata": {},
   "source": [
    "##### Q1. Explain Class and Object with respect to Object-Oriented Programming. Give a suitable example."
   ]
  },
  {
   "cell_type": "code",
   "execution_count": null,
   "id": "c73eb9db",
   "metadata": {},
   "outputs": [],
   "source": [
    "Object-Oriented Programming (OOP) is a programming paradigm that is based on the concept of objects. In OOP, a class is a blueprint for creating objects, while an object is an instance of a class.\n",
    "\n",
    "A class is a user-defined data type that encapsulates data and functions that operate on that data. The data elements are called attributes, and the functions are called methods. A class provides a template for creating objects of that class. In other words, a class is a collection of attributes and methods that define the behavior of its objects.\n",
    "\n",
    "An object is an instance of a class. It is a runtime entity that is created from a class. An object has a state, behavior, and identity. The state of an object is represented by its attributes, which are the data members of the object. The behavior of an object is represented by its methods, which are the functions that operate on its attributes. The identity of an object is a unique identifier that distinguishes it from other objects of the same clas"
   ]
  },
  {
   "cell_type": "code",
   "execution_count": 1,
   "id": "2b7535ba",
   "metadata": {},
   "outputs": [],
   "source": [
    "#Here's an example\n",
    "class pwskills:\n",
    "    def __init__(self,name,phone_num,email_id):\n",
    "        self.name=name\n",
    "        self.phone_num=phone_num\n",
    "        self.email_id=email_id\n",
    "        \n",
    "        \n",
    "    def details(self):\n",
    "        return self.name,self.phone_num,self.email_id"
   ]
  },
  {
   "cell_type": "code",
   "execution_count": 2,
   "id": "0f613abf",
   "metadata": {},
   "outputs": [
    {
     "data": {
      "text/plain": [
       "'brijraj'"
      ]
     },
     "execution_count": 2,
     "metadata": {},
     "output_type": "execute_result"
    }
   ],
   "source": [
    "abc=pwskills('brijraj',9999999999,'brijraj@gmail.com')\n",
    "abc.name"
   ]
  },
  {
   "cell_type": "code",
   "execution_count": 3,
   "id": "8fd8e99c",
   "metadata": {},
   "outputs": [
    {
     "data": {
      "text/plain": [
       "('brijraj', 9999999999, 'brijraj@gmail.com')"
      ]
     },
     "execution_count": 3,
     "metadata": {},
     "output_type": "execute_result"
    }
   ],
   "source": [
    "abc.details()"
   ]
  },
  {
   "cell_type": "code",
   "execution_count": null,
   "id": "0647a952",
   "metadata": {},
   "outputs": [],
   "source": []
  },
  {
   "cell_type": "markdown",
   "id": "8f41c87e",
   "metadata": {},
   "source": [
    "#### Q2. Name the four pillars of OOPs."
   ]
  },
  {
   "cell_type": "code",
   "execution_count": null,
   "id": "723c09ee",
   "metadata": {},
   "outputs": [],
   "source": [
    "1)Encapsulation\n",
    "2)Inheritance-In Python It is possible to create an object that inherits the methods and properties of another object. This is called Inheritance.\n",
    "3)Polymorphism\n",
    "4)Abstraction"
   ]
  },
  {
   "cell_type": "code",
   "execution_count": null,
   "id": "e77dc2ca",
   "metadata": {},
   "outputs": [],
   "source": []
  },
  {
   "cell_type": "markdown",
   "id": "61479062",
   "metadata": {},
   "source": [
    "##### Q3. Explain why the __init__() function is used. Give a suitable example"
   ]
  },
  {
   "cell_type": "code",
   "execution_count": null,
   "id": "f2dce2f9",
   "metadata": {},
   "outputs": [],
   "source": [
    "The __init__() function is a special method in Python that is called when an instance (object) of a class is created. It is used to initialize the attributes of the object or perform any other setup that needs to be done when the object is created."
   ]
  },
  {
   "cell_type": "code",
   "execution_count": 4,
   "id": "533f6d8f",
   "metadata": {},
   "outputs": [
    {
     "name": "stdout",
     "output_type": "stream",
     "text": [
      "John\n",
      "30\n",
      "Jane\n",
      "25\n"
     ]
    }
   ],
   "source": [
    "#For example, suppose we have a class called 'Person' with two attributes: 'name' and 'age'. We can use the '__init__()' method to initialize these attributes when a new 'Person' object is created. Here's an example\n",
    "class Person:\n",
    "    def __init__(self, name, age):\n",
    "        self.name = name\n",
    "        self.age = age\n",
    "\n",
    "person1 = Person(\"John\", 30)\n",
    "person2 = Person(\"Jane\", 25)\n",
    "\n",
    "print(person1.name)  # Output: John\n",
    "print(person1.age)   # Output: 30\n",
    "print(person2.name)  # Output: Jane\n",
    "print(person2.age)   # Output: 25"
   ]
  },
  {
   "cell_type": "code",
   "execution_count": null,
   "id": "5cc70557",
   "metadata": {},
   "outputs": [],
   "source": []
  },
  {
   "cell_type": "markdown",
   "id": "81a4ccfa",
   "metadata": {},
   "source": [
    "#### Q4. Why self is used in OOPs?"
   ]
  },
  {
   "cell_type": "code",
   "execution_count": null,
   "id": "b04d90eb",
   "metadata": {},
   "outputs": [],
   "source": [
    "In Python object-oriented programming (OOP), self is a reference to the instance of a class. It is a convention in Python to use self as the first parameter in instance method definitions.\n",
    "\n",
    "When we create an instance of a class, Python creates a new instance of the class and passes it to the first argument of any method we call on that instance. By convention, this first argument is named self. We use self to access and modify the attributes and methods of the instance."
   ]
  },
  {
   "cell_type": "code",
   "execution_count": 5,
   "id": "4f4c62fe",
   "metadata": {},
   "outputs": [],
   "source": [
    "class Car:\n",
    "    def __init__(self, make, model, year):\n",
    "        self.make = make\n",
    "        self.model = model\n",
    "        self.year = year\n",
    "\n",
    "    def get_info(self):\n",
    "        return f\"{self.make} {self.model} ({self.year})\"\n",
    "\n",
    "    "
   ]
  },
  {
   "cell_type": "code",
   "execution_count": 6,
   "id": "c04d64fa",
   "metadata": {},
   "outputs": [
    {
     "name": "stdout",
     "output_type": "stream",
     "text": [
      "Honda Civic (2022)\n"
     ]
    }
   ],
   "source": [
    "my_car = Car(\"Honda\", \"Civic\", 2022)\n",
    "print(my_car.get_info()) # prints \"Honda Civic (2022)\""
   ]
  },
  {
   "cell_type": "code",
   "execution_count": null,
   "id": "77c45d08",
   "metadata": {},
   "outputs": [],
   "source": [
    "In the 'get_info' method, we use 'self' to access the attributes 'make', 'model', and 'year' of the 'my_car' instance, and return a formatted string. Without 'self', we would not be able to access the instance attributes."
   ]
  },
  {
   "cell_type": "code",
   "execution_count": null,
   "id": "d62bb101",
   "metadata": {},
   "outputs": [],
   "source": []
  }
 ],
 "metadata": {
  "kernelspec": {
   "display_name": "Python 3 (ipykernel)",
   "language": "python",
   "name": "python3"
  },
  "language_info": {
   "codemirror_mode": {
    "name": "ipython",
    "version": 3
   },
   "file_extension": ".py",
   "mimetype": "text/x-python",
   "name": "python",
   "nbconvert_exporter": "python",
   "pygments_lexer": "ipython3",
   "version": "3.10.9"
  }
 },
 "nbformat": 4,
 "nbformat_minor": 5
}
