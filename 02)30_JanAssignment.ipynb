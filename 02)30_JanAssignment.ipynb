{
 "cells": [
  {
   "cell_type": "code",
   "execution_count": null,
   "id": "a459303d",
   "metadata": {},
   "outputs": [],
   "source": [
    "#Q.1-Write a program to accept percentage from the user and display the grade according to the following criteria:\n",
    "marks=float(input(\"Enter Your Marks \"))\n",
    "if marks > 90:\n",
    "    print(\"Grade : A\")\n",
    "elif marks >80 and marks<=90:\n",
    "    print(\"Grade : B\")\n",
    "elif marks>=60 and marks<=80:\n",
    "    print(\"Grade : C\")\n",
    "else:\n",
    "    print(\"Grade : D\")"
   ]
  },
  {
   "cell_type": "code",
   "execution_count": null,
   "id": "2c8129dd",
   "metadata": {},
   "outputs": [],
   "source": []
  },
  {
   "cell_type": "code",
   "execution_count": null,
   "id": "014a67a8",
   "metadata": {},
   "outputs": [],
   "source": [
    "#Q.2-Write a program to accept the cost price of a bike and display the road tax to be paid:\n",
    "Cost_Price=int(input(\"Enter Cost Price of a bike : \"))\n",
    "if Cost_Price>100000:\n",
    "    print(\"Road tax to be paid 15%\")\n",
    "elif Cost_Price >50000 and Cost_Price<= 100000:\n",
    "    print(\"Road tax to be paid 10%\")\n",
    "elif Cost_Price <= 50000:\n",
    "    print(\"Road tax to be paid 5%\")"
   ]
  },
  {
   "cell_type": "code",
   "execution_count": null,
   "id": "265de412",
   "metadata": {},
   "outputs": [],
   "source": []
  },
  {
   "cell_type": "code",
   "execution_count": null,
   "id": "a8085ffa",
   "metadata": {},
   "outputs": [],
   "source": [
    "#Q.3-Accept any city from the user and display monument of that city.\n",
    "city=input(\"Enter name of city : \")\n",
    "if city.lower()==\"delhi\":\n",
    "    print(\"Monumnet : Red Fort\")\n",
    "elif city.lower()==\"agra\":\n",
    "    print(\"Monument : Taj Mahal\")\n",
    "elif city.lower()==\"jaipur\":\n",
    "    print(\"Monument : jai Mahal\")\n",
    "else:\n",
    "    print(\"Sorry, we do not have information about any monument in that city.\")"
   ]
  },
  {
   "cell_type": "code",
   "execution_count": null,
   "id": "52cdeaac",
   "metadata": {},
   "outputs": [],
   "source": []
  },
  {
   "cell_type": "code",
   "execution_count": null,
   "id": "e4610fed",
   "metadata": {},
   "outputs": [],
   "source": [
    "#Q.4-Check how many times a given number can be divided by 3 before it is less than or equal to 10\n",
    "num=int(input(\"Enter a number : \"))\n",
    "count=0\n",
    "while num>=10:\n",
    "    num=num/3\n",
    "    count+=1\n",
    "count"
   ]
  },
  {
   "cell_type": "code",
   "execution_count": null,
   "id": "0b602140",
   "metadata": {},
   "outputs": [],
   "source": []
  },
  {
   "cell_type": "markdown",
   "id": "3a8d926a",
   "metadata": {},
   "source": [
    "##### Q.5-why and when to use while loop in Python give a detailed description with example"
   ]
  },
  {
   "cell_type": "raw",
   "id": "f2c392df",
   "metadata": {},
   "source": [
    "A while loop in Python is used to execute a block of code repeatedly as long as the specified condition is true. The loop continues until the condition becomes false. A while loop is useful when we want to perform some task repeatedly without knowing how many times it will be executed.\n",
    "The general syntax of a while loop in Python is: while condition:\n",
    "Here, 'condition' is an expression that is evaluated before each iteration of the loop. If the condition is true, then the code inside the loop is executed. If the condition is false, then the loop is terminated and the program continues to execute the next line of code."
   ]
  },
  {
   "cell_type": "code",
   "execution_count": null,
   "id": "010d6d96",
   "metadata": {},
   "outputs": [],
   "source": [
    "#Here's example how we can use a while loop to print the Fibonacci series up to a given number n: \n",
    "n = int(input(\"Enter the number of terms: \"))\n",
    "a, b = 0, 1\n",
    "print(\"Fibonacci series:\")\n",
    "while a <= n:\n",
    "    print(a)\n",
    "    a, b = b, a + b"
   ]
  },
  {
   "cell_type": "code",
   "execution_count": null,
   "id": "3cc7eb89",
   "metadata": {},
   "outputs": [],
   "source": []
  },
  {
   "cell_type": "markdown",
   "id": "98180ba8",
   "metadata": {},
   "source": [
    "##### Q.6-Use nested while loop to print 3 different pattern.\n"
   ]
  },
  {
   "cell_type": "code",
   "execution_count": null,
   "id": "f3fe7f49",
   "metadata": {},
   "outputs": [],
   "source": [
    "#1)\n",
    "num=int(input(\"Enter number : \"))\n",
    "while num>=0:\n",
    "    print('*'*num)\n",
    "    num-=1"
   ]
  },
  {
   "cell_type": "code",
   "execution_count": null,
   "id": "1a6d0e4b",
   "metadata": {},
   "outputs": [],
   "source": [
    "#2)\n",
    "row = 1\n",
    "while row <= 5:\n",
    "    col = 1\n",
    "    while col <= row:\n",
    "        print(\"*\", end=\"\")\n",
    "        col += 1\n",
    "    print()\n",
    "    row += 1\n"
   ]
  },
  {
   "cell_type": "code",
   "execution_count": null,
   "id": "1d897d89",
   "metadata": {},
   "outputs": [],
   "source": [
    "#3)\n",
    "row = 1\n",
    "while row <= 5:\n",
    "    col = 1\n",
    "    while col <= 5:\n",
    "        print(\"*\", end=\"\")\n",
    "        col += 1\n",
    "    print()\n",
    "    row += 1\n"
   ]
  },
  {
   "cell_type": "code",
   "execution_count": null,
   "id": "e5498980",
   "metadata": {},
   "outputs": [],
   "source": []
  },
  {
   "cell_type": "code",
   "execution_count": null,
   "id": "7877f20b",
   "metadata": {},
   "outputs": [],
   "source": [
    "#Q.7-Reverse a while loop to display numbers from 10 to 1.\n",
    "num=10\n",
    "while num>=1:\n",
    "    print(num)\n",
    "    num-=1"
   ]
  },
  {
   "cell_type": "code",
   "execution_count": null,
   "id": "92546a41",
   "metadata": {},
   "outputs": [],
   "source": []
  },
  {
   "cell_type": "code",
   "execution_count": null,
   "id": "db4cad7a",
   "metadata": {},
   "outputs": [],
   "source": [
    "#Q.8-Reverse a while loop to display numbers from 10 to 1.\n",
    "num=10\n",
    "while num>=1:\n",
    "    print(num)\n",
    "    num-=1"
   ]
  },
  {
   "cell_type": "code",
   "execution_count": null,
   "id": "d5274210",
   "metadata": {},
   "outputs": [],
   "source": []
  }
 ],
 "metadata": {
  "kernelspec": {
   "display_name": "Python 3 (ipykernel)",
   "language": "python",
   "name": "python3"
  },
  "language_info": {
   "codemirror_mode": {
    "name": "ipython",
    "version": 3
   },
   "file_extension": ".py",
   "mimetype": "text/x-python",
   "name": "python",
   "nbconvert_exporter": "python",
   "pygments_lexer": "ipython3",
   "version": "3.10.9"
  }
 },
 "nbformat": 4,
 "nbformat_minor": 5
}
