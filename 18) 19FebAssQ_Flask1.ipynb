{
 "cells": [
  {
   "cell_type": "markdown",
   "id": "48d736bb-0343-4ef7-9574-9b47d41bc9a3",
   "metadata": {},
   "source": [
    "##### Q1. What is Flask Framework? What are the advantages of Flask Framework?"
   ]
  },
  {
   "cell_type": "markdown",
   "id": "ad9232f6",
   "metadata": {},
   "source": [
    "Flask is a lightweight framework because it is independent of external libraries and it gives a quick start for web development having complex applications."
   ]
  },
  {
   "cell_type": "code",
   "execution_count": null,
   "id": "1b7a6f06",
   "metadata": {},
   "outputs": [],
   "source": []
  },
  {
   "cell_type": "markdown",
   "id": "73084e18-bac2-4ab5-a74f-018821bb39e2",
   "metadata": {},
   "source": [
    "##### Q2. Create a simple Flask application to display ‘Hello World!!’. Attach the screenshot of the output inJupyter Notebook."
   ]
  },
  {
   "cell_type": "code",
   "execution_count": null,
   "id": "ac3bd12a-09b7-464c-a60a-38f62b7b1fd8",
   "metadata": {},
   "outputs": [],
   "source": [
    "from flask import Flask\n",
    "\n",
    "app=Flask(__name__)\n",
    "\n",
    "@app.route(\"/\")\n",
    "def helloworld():\n",
    "    return '<h1>Hello World!!</h1>'\n",
    "\n",
    "if __name__==\"__main__\":\n",
    "    app.run(debug=True)"
   ]
  },
  {
   "attachments": {
    "Screenshot%202024-05-21%20132215.png": {
     "image/png": "[encoded data removed]"
    }
   },
   "cell_type": "markdown",
   "id": "7ca9eb57",
   "metadata": {},
   "source": [
    "![Screenshot%202024-05-21%20132215.png](attachment:Screenshot%202024-05-21%20132215.png)"
   ]
  },
  {
   "cell_type": "code",
   "execution_count": null,
   "id": "034b5508",
   "metadata": {},
   "outputs": [],
   "source": []
  },
  {
   "cell_type": "markdown",
   "id": "a6184d4f-b93d-45f8-875d-de4e87c42ebe",
   "metadata": {},
   "source": [
    "##### Q3. What is App routing in Flask? Why do we use app routes?"
   ]
  },
  {
   "cell_type": "markdown",
   "id": "4828377f",
   "metadata": {},
   "source": [
    "App routing is used to map the specific URL with the associated function that is intended to perform some task. It is used to access some particular page like Flask Tutorial in the web application."
   ]
  },
  {
   "cell_type": "code",
   "execution_count": null,
   "id": "474ed734-92ec-49a3-b638-91dc9dfa97df",
   "metadata": {},
   "outputs": [],
   "source": []
  },
  {
   "cell_type": "markdown",
   "id": "7a11d144",
   "metadata": {},
   "source": [
    "##### Q4. Create a “/welcome” route to display the welcome message “Welcome to ABC Corporation” and a “/”route to show the following details:\n",
    "**Company Name: ABC Corporation  \n",
    "Location: India    \n",
    "Contact Detail: 999-999-9999**  "
   ]
  },
  {
   "cell_type": "code",
   "execution_count": null,
   "id": "e2bded04-30a8-4224-9703-b6295adec171",
   "metadata": {},
   "outputs": [],
   "source": [
    "from flask import Flask\n",
    "\n",
    "app = Flask(__name__)\n",
    "\n",
    "@app.route(\"/welcome\")\n",
    "def welcome():\n",
    "    return \"Welcome to ABC Corporation\"\n",
    "\n",
    "@app.route(\"/\")\n",
    "def details():\n",
    "    return \"Company Name: ABC Corporation\\n Location: India\\n Contact Detail: 999-999-9999\"\n",
    "\n",
    "if __name__==\"__main__\":\n",
    "    app.run(debug=True)"
   ]
  },
  {
   "cell_type": "code",
   "execution_count": null,
   "id": "b207f182-e74c-48ad-9e92-adc2bf65bb17",
   "metadata": {},
   "outputs": [],
   "source": []
  },
  {
   "cell_type": "markdown",
   "id": "5c906fec-6bf4-41b2-bfc8-075981df6c6d",
   "metadata": {},
   "source": [
    "##### Q5. What function is used in Flask for URL Building? Write a Python code to demonstrate the working of the url_for() function."
   ]
  },
  {
   "cell_type": "markdown",
   "id": "ff00b9ab",
   "metadata": {},
   "source": [
    "In Flask, the **url_for()** function is used for URL building. It is useful for generating URLs dynamically based on the endpoint names and the arguments provided. This is particularly helpful in avoiding hardcoding URLs, making the code more maintainable and less error-prone."
   ]
  },
  {
   "cell_type": "code",
   "execution_count": null,
   "id": "929b90d3",
   "metadata": {},
   "outputs": [],
   "source": [
    "from flask import Flask, redirect, url_for\n",
    "\n",
    "app = Flask(__name__)\n",
    "\n",
    "@app.route('/')\n",
    "def welcome():\n",
    "    return \"<h1>Welcome to my URL Page</h1>\"\n",
    "\n",
    "@app.route('/success/<int:score>')\n",
    "def success(score):\n",
    "    return \"The Person has passed and the marks is \"+str(score)\n",
    "\n",
    "@app.route('/fail/<int:score>')\n",
    "def fail(score):\n",
    "    return \"The Person has fail and the marks is \"+str(score)\n",
    "\n",
    "#redirect to the appropriate route.\n",
    "@app.route('/results/<int:marks>')\n",
    "def results(marks):\n",
    "    result=\"\"\n",
    "    if marks<35:\n",
    "        result='fail'\n",
    "    else:\n",
    "        result='success'\n",
    "    return redirect(url_for(result,score=marks))\n",
    "\n",
    "if __name__=='__main__':\n",
    "    app.run(debug=True)"
   ]
  },
  {
   "cell_type": "code",
   "execution_count": null,
   "id": "275dedaf-88b2-4cea-b1ae-b61f3bce685f",
   "metadata": {},
   "outputs": [],
   "source": []
  }
 ],
 "metadata": {
  "kernelspec": {
   "display_name": "Python 3 (ipykernel)",
   "language": "python",
   "name": "python3"
  },
  "language_info": {
   "codemirror_mode": {
    "name": "ipython",
    "version": 3
   },
   "file_extension": ".py",
   "mimetype": "text/x-python",
   "name": "python",
   "nbconvert_exporter": "python",
   "pygments_lexer": "ipython3",
   "version": "3.10.9"
  }
 },
 "nbformat": 4,
 "nbformat_minor": 5
}
