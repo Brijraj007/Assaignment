{
 "cells": [
  {
   "cell_type": "markdown",
   "id": "c904e384",
   "metadata": {},
   "source": [
    "##### Q.1)explain with an example each when to use a for loop and a while loop\n",
    "\n",
    "Answer\n",
    "- Use 'For Loop' when we want to iterate over a known and finite set of element,such as a list or a range of numbers.\n",
    "- A 'while loop' is used when we want to repeat a block of code until a certain condition is met. The condition is checked at the beginning of each iteration."
   ]
  },
  {
   "cell_type": "code",
   "execution_count": 1,
   "id": "089a1bb9",
   "metadata": {},
   "outputs": [
    {
     "name": "stdout",
     "output_type": "stream",
     "text": [
      "1\n",
      "two\n",
      "3.4\n",
      "(5+6j)\n",
      "1\n",
      "two\n",
      "3.4\n",
      "(5+6j)\n"
     ]
    }
   ],
   "source": [
    "#Use 'For Loop' when we know the number of iteration in  advance\n",
    "l=[1,\"two\",3.4,5+6j]\n",
    "for i in l:\n",
    "    print(i)\n",
    "    \n",
    "#Use 'while loop' when we don't know the number of iteration. \n",
    "#It's also important to make sure that our while loop has a termination condition that will eventually be met, \n",
    "#otherwise it will run indefinitely and potentially crash your program.\n",
    "numbers = [1,\"two\",3.4,5+6j]\n",
    "length = len(numbers) # get length of array. \n",
    "n = 0\n",
    "while n < length: # loop condition\n",
    "    print(numbers[n])\n",
    "    n += 1"
   ]
  },
  {
   "cell_type": "code",
   "execution_count": null,
   "id": "3ce16d2d",
   "metadata": {},
   "outputs": [],
   "source": []
  },
  {
   "cell_type": "markdown",
   "id": "c711326f",
   "metadata": {},
   "source": [
    "##### Q.2)Write a python program to print the sum and product of the first 10 natural numbers using for and while loop."
   ]
  },
  {
   "cell_type": "code",
   "execution_count": 2,
   "id": "9f05e645",
   "metadata": {},
   "outputs": [
    {
     "name": "stdout",
     "output_type": "stream",
     "text": [
      "*****By_For_Loop*****\n",
      "Sum of first 10 natural numbers is: 55\n",
      "Product of first 10 natural numbers is: 3628800\n",
      "\n",
      "*****By_While_Loop*****\n",
      "Sum of first 10 natural numbers is: 55\n",
      "Product of first 10 natural numbers is: 3628800\n"
     ]
    }
   ],
   "source": [
    "print(\"*****By_For_Loop*****\")\n",
    "sum = 0\n",
    "product = 1\n",
    "# calculate sum and product of first 10 natural numbers\n",
    "for i in range(1,11):\n",
    "    sum = sum + i\n",
    "    product = product * i\n",
    "\n",
    "print(\"Sum of first 10 natural numbers is:\", sum)\n",
    "print(\"Product of first 10 natural numbers is:\", product)\n",
    "print()\n",
    "\n",
    "print(\"*****By_While_Loop*****\")\n",
    "n = 10\n",
    "sum = 0\n",
    "product = 1\n",
    "i = 1\n",
    "# calculate sum and product of first 10 natural numbers\n",
    "while i <= n:\n",
    "    sum += i\n",
    "    product *= i\n",
    "    i += 1\n",
    "\n",
    "print(\"Sum of first 10 natural numbers is:\", sum)\n",
    "print(\"Product of first 10 natural numbers is:\", product)"
   ]
  },
  {
   "cell_type": "code",
   "execution_count": null,
   "id": "e36004d0",
   "metadata": {},
   "outputs": [],
   "source": []
  },
  {
   "cell_type": "markdown",
   "id": "d27ff341",
   "metadata": {},
   "source": [
    "##### Q.3) Electricity"
   ]
  },
  {
   "cell_type": "code",
   "execution_count": 3,
   "id": "e4ba83e2",
   "metadata": {},
   "outputs": [
    {
     "name": "stdout",
     "output_type": "stream",
     "text": [
      "Enter the units of electricity consumed : 310\n",
      "The total electricity bill should be Rs.  2250.0\n"
     ]
    }
   ],
   "source": [
    "units=int(input(\"Enter the units of electricity consumed : \"))\n",
    "total=0\n",
    "if units<=100:\n",
    "    total=units*4.5 \n",
    "    \n",
    "elif units<=200:\n",
    "    total=(100*4.5)+(units-100)*6 \n",
    "              #450+(units-100)*6\n",
    "    \n",
    "elif units<=300:\n",
    "    total=100*4.5+100*6+(units-200)*10 \n",
    "                  #1050+(units-200)*10\n",
    "    \n",
    "else: #elif units>=300:\n",
    "    total=100*4.5+100*6+100*10+(units-300)*20 \n",
    "    \n",
    "print(\"The total electricity bill should be Rs. \",total)\n",
    "\n",
    "#program must pass this test case: when the unit of electricity consumed by the user in a month is 310, the total electricity bill should be 2250."
   ]
  },
  {
   "cell_type": "code",
   "execution_count": null,
   "id": "2822f5ea",
   "metadata": {},
   "outputs": [],
   "source": []
  },
  {
   "cell_type": "markdown",
   "id": "2b6c28d6",
   "metadata": {},
   "source": [
    "##### Q.4)Create a list of numbers from 1 to 100. Use for loop and while loop to calculate the cube of each number and if the cube of that number is divisible by 4 or 5 then append that number in a list and print that list."
   ]
  },
  {
   "cell_type": "code",
   "execution_count": 4,
   "id": "cb491da3",
   "metadata": {},
   "outputs": [
    {
     "name": "stdout",
     "output_type": "stream",
     "text": [
      "*****Using For Loop*****\n",
      "[2, 4, 5, 6, 8, 10, 12, 14, 15, 16, 18, 20, 22, 24, 25, 26, 28, 30, 32, 34, 35, 36, 38, 40, 42, 44, 45, 46, 48, 50, 52, 54, 55, 56, 58, 60, 62, 64, 65, 66, 68, 70, 72, 74, 75, 76, 78, 80, 82, 84, 85, 86, 88, 90, 92, 94, 95, 96, 98, 100]\n",
      "*****Using While Loop*****\n",
      "[2, 4, 5, 6, 8, 10, 12, 14, 15, 16, 18, 20, 22, 24, 25, 26, 28, 30, 32, 34, 35, 36, 38, 40, 42, 44, 45, 46, 48, 50, 52, 54, 55, 56, 58, 60, 62, 64, 65, 66, 68, 70, 72, 74, 75, 76, 78, 80, 82, 84, 85, 86, 88, 90, 92, 94, 95, 96, 98, 100]\n"
     ]
    }
   ],
   "source": [
    "print('*****Using For Loop*****')\n",
    "numbers=list(range(1,101))\n",
    "divisible_by_4_or_5=[]\n",
    "for num in numbers:\n",
    "    cube=num**3\n",
    "    if cube%4==0 or cube%5==0:\n",
    "        divisible_by_4_or_5.append(num)\n",
    "print(divisible_by_4_or_5)\n",
    "\n",
    "print('*****Using While Loop*****')      \n",
    "numbers=list(range(1,101))\n",
    "divisible_by_4_or_5=[]\n",
    "i=0\n",
    "while i<len(numbers):\n",
    "    cube=numbers[i]**3\n",
    "    if cube%4==0 or cube%5==0:\n",
    "        divisible_by_4_or_5.append(numbers[i])\n",
    "    i+=1\n",
    "print(divisible_by_4_or_5)"
   ]
  },
  {
   "cell_type": "code",
   "execution_count": null,
   "id": "ce669d34",
   "metadata": {},
   "outputs": [],
   "source": []
  },
  {
   "cell_type": "markdown",
   "id": "84eb14ae",
   "metadata": {},
   "source": [
    "##### Q.5) Write a Program to filter count vowels in the below-given string. string=\"I want to become a data scientist\" "
   ]
  },
  {
   "cell_type": "code",
   "execution_count": 5,
   "id": "7364985d",
   "metadata": {},
   "outputs": [
    {
     "name": "stdout",
     "output_type": "stream",
     "text": [
      "12\n"
     ]
    }
   ],
   "source": [
    "string=\"I want to become a data scientist\"\n",
    "string=string.lower()\n",
    "vowels=['a', 'e', 'i', 'o', 'u']\n",
    "counts=0\n",
    "for char in string:\n",
    "    if char in vowels:\n",
    "        counts+=1\n",
    "print(counts)"
   ]
  }
 ],
 "metadata": {
  "kernelspec": {
   "display_name": "Python 3 (ipykernel)",
   "language": "python",
   "name": "python3"
  },
  "language_info": {
   "codemirror_mode": {
    "name": "ipython",
    "version": 3
   },
   "file_extension": ".py",
   "mimetype": "text/x-python",
   "name": "python",
   "nbconvert_exporter": "python",
   "pygments_lexer": "ipython3",
   "version": "3.10.9"
  }
 },
 "nbformat": 4,
 "nbformat_minor": 5
}
